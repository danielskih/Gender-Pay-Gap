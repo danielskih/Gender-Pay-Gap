{
 "cells": [
  {
   "cell_type": "code",
   "execution_count": 3,
   "metadata": {},
   "outputs": [],
   "source": [
    "import matplotlib.pyplot as plt\n",
    "import pandas as pd"
   ]
  },
  {
   "cell_type": "markdown",
   "metadata": {},
   "source": [
    "Here i present the explorative analysis of the gender pay gap dataset from UK dated 2021 to 2022."
   ]
  },
  {
   "cell_type": "markdown",
   "metadata": {},
   "source": [
    "https://gender-pay-gap.service.gov.uk/viewing/download"
   ]
  },
  {
   "cell_type": "code",
   "execution_count": 5,
   "metadata": {},
   "outputs": [],
   "source": [
    "df = pd.read_csv(\"UK Gender Pay Gap Data - 2021 to 2022.csv\")"
   ]
  },
  {
   "cell_type": "markdown",
   "metadata": {},
   "source": [
    "The data represented in quartiles and representaion of each gender in percents in each quartile.\n",
    "Thats what the distribution looks like."
   ]
  },
  {
   "cell_type": "code",
   "execution_count": 245,
   "metadata": {},
   "outputs": [
    {
     "data": {
      "text/plain": [
       "<BarContainer object of 8 artists>"
      ]
     },
     "execution_count": 245,
     "metadata": {},
     "output_type": "execute_result"
    },
    {
     "data": {
      "image/png": "[encoded data removed]",
      "text/plain": [
       "<Figure size 1584x720 with 1 Axes>"
      ]
     },
     "metadata": {
      "needs_background": "light"
     },
     "output_type": "display_data"
    }
   ],
   "source": [
    "fig = plt.figure(figsize=(22,10), dpi = 72)\n",
    "ax = fig.add_subplot()\n",
    "ax.bar(df.columns[12:20], df.iloc[:,12:20].describe().loc['mean'] )"
   ]
  },
  {
   "cell_type": "code",
   "execution_count": 217,
   "metadata": {},
   "outputs": [
    {
     "name": "stdout",
     "output_type": "stream",
     "text": [
      "0   MaleLowerQuartile\n",
      "1   FemaleLowerQuartile\n",
      "2   MaleLowerMiddleQuartile\n",
      "3   FemaleLowerMiddleQuartile\n",
      "4   MaleUpperMiddleQuartile\n",
      "5   FemaleUpperMiddleQuartile\n",
      "6   MaleTopQuartile\n",
      "7   FemaleTopQuartile\n"
     ]
    }
   ],
   "source": [
    "for i,j in enumerate( df.columns[12:20]):\n",
    "    print(i,' ',j)"
   ]
  },
  {
   "cell_type": "code",
   "execution_count": 12,
   "metadata": {},
   "outputs": [],
   "source": [
    "quartiles_whole = df.iloc[:,12:20]\n",
    "quartiles_whole_female = quartiles_whole.iloc[:, [1,3,5,7]]\n",
    "quartiles_whole_male = quartiles_whole.iloc[:, [0,2,4,6]]"
   ]
  },
  {
   "cell_type": "markdown",
   "metadata": {},
   "source": [
    "#### In the entire data set there are:"
   ]
  },
  {
   "cell_type": "code",
   "execution_count": 71,
   "metadata": {},
   "outputs": [
    {
     "name": "stdout",
     "output_type": "stream",
     "text": [
      "52.228% of men.\n"
     ]
    }
   ],
   "source": [
    "print(f\"{quartiles_whole_male.mean().mean().round(3)}% of men.\")"
   ]
  },
  {
   "cell_type": "code",
   "execution_count": 72,
   "metadata": {},
   "outputs": [
    {
     "name": "stdout",
     "output_type": "stream",
     "text": [
      "47.772% of women.\n"
     ]
    }
   ],
   "source": [
    "print(f\"{quartiles_whole_female.mean().mean().round(3)}% of women.\")"
   ]
  },
  {
   "cell_type": "markdown",
   "metadata": {},
   "source": [
    "#### And that is how women are represented in different salary tiers:"
   ]
  },
  {
   "cell_type": "code",
   "execution_count": 16,
   "metadata": {},
   "outputs": [
    {
     "data": {
      "text/plain": [
       "FemaleLowerQuartile          54.632763\n",
       "FemaleLowerMiddleQuartile    50.070821\n",
       "FemaleUpperMiddleQuartile    45.868917\n",
       "FemaleTopQuartile            40.513851\n",
       "dtype: float64"
      ]
     },
     "execution_count": 16,
     "metadata": {},
     "output_type": "execute_result"
    }
   ],
   "source": [
    "quartiles_whole_female.mean()"
   ]
  },
  {
   "cell_type": "code",
   "execution_count": 100,
   "metadata": {},
   "outputs": [
    {
     "name": "stdout",
     "output_type": "stream",
     "text": [
      "In the top paid quantile women are underrepresented by 15.19% of their proportion in the population.\n"
     ]
    }
   ],
   "source": [
    "print(f\"In the top paid quantile women are underrepresented by {(round((1-40.514/47.772)*100, 2))}% of their proportion in the population.\")"
   ]
  },
  {
   "cell_type": "code",
   "execution_count": 99,
   "metadata": {},
   "outputs": [
    {
     "name": "stdout",
     "output_type": "stream",
     "text": [
      "In the lowest paid quantile women are overrepresented by 14.4% relative to their proportion in the population.\n"
     ]
    }
   ],
   "source": [
    "print(f\"In the lowest paid quantile women are overrepresented by {round(((54.6327-47.772)/47.772)*100,1)}% relative to their proportion in the population.\")"
   ]
  },
  {
   "cell_type": "markdown",
   "metadata": {},
   "source": [
    "### But lets see if it is always the case, if we can find companies where woman are overrepresented in Top paid Quartile."
   ]
  },
  {
   "cell_type": "code",
   "execution_count": 19,
   "metadata": {},
   "outputs": [
    {
     "name": "stdout",
     "output_type": "stream",
     "text": [
      "\n",
      "There are 3661 companies like that.\n",
      "That's 35% of all the busineses in the dataset.\n"
     ]
    }
   ],
   "source": [
    "test = df[df['MaleTopQuartile']<df['FemaleTopQuartile']].iloc[:,12:20]\n",
    "print(f\"\\nThere are {test.shape[0]} companies like that.\")\n",
    "print(f\"That's {round(test.shape[0]/df.shape[0]*100)}% of all the busineses in the dataset.\")"
   ]
  },
  {
   "cell_type": "markdown",
   "metadata": {},
   "source": [
    "### Lets find out what is the gender composition of that segment of the companies:"
   ]
  },
  {
   "cell_type": "code",
   "execution_count": 257,
   "metadata": {},
   "outputs": [
    {
     "name": "stdout",
     "output_type": "stream",
     "text": [
      "\n",
      "It's 73% women and 27% men, working in those companies.\n"
     ]
    }
   ],
   "source": [
    "fem = int(test.iloc[:,[1,3,5,7]].mean().mean().round())\n",
    "m = int(test.iloc[:,[0,2,4,6]].mean().mean().round())\n",
    "print(f\"\\nIt's {fem}% women and {m}% men, working in those companies.\")"
   ]
  },
  {
   "cell_type": "code",
   "execution_count": 21,
   "metadata": {},
   "outputs": [
    {
     "data": {
      "text/plain": [
       "FemaleLowerQuartile          75.771729\n",
       "FemaleLowerMiddleQuartile    74.632887\n",
       "FemaleUpperMiddleQuartile    72.141601\n",
       "FemaleTopQuartile            67.975608\n",
       "dtype: float64"
      ]
     },
     "execution_count": 21,
     "metadata": {},
     "output_type": "execute_result"
    }
   ],
   "source": [
    "test.iloc[:,[1,3,5,7]].mean()"
   ]
  },
  {
   "cell_type": "code",
   "execution_count": 70,
   "metadata": {},
   "outputs": [
    {
     "name": "stdout",
     "output_type": "stream",
     "text": [
      "As you see from above the women are underrepresented \n",
      "in the Top quartile by 6.8% relative to 73% of them overall \n",
      "and overrepresented in the lowest paid quantile by 4.1%.\n"
     ]
    }
   ],
   "source": [
    "print(f\"As you see from above the women are underrepresented \\nin the Top quartile by {round(((73-68)/73)*100, 1)}% relative to 73% of them overall \\nand overrepresented in the lowest paid quantile by {round((3/73.0)*100,1)}%.\")"
   ]
  },
  {
   "cell_type": "markdown",
   "metadata": {},
   "source": [
    "There is still a descrepancy, but it is not as severe as in the whole dataset. <strong>7 and 4 % vs 15 and 14 %</strong>. <br>I wonder though what is going on in male dominated industry segment.<br>Lets find out how many companies have males overrepresented in the <strong>Top Paid Quartile</strong>"
   ]
  },
  {
   "cell_type": "code",
   "execution_count": 79,
   "metadata": {},
   "outputs": [
    {
     "name": "stdout",
     "output_type": "stream",
     "text": [
      "\n",
      "There are 6541 companies like that.\n",
      "That's 62% of all the busineses in the dataset.\n"
     ]
    }
   ],
   "source": [
    "test2 = df[df['MaleTopQuartile']>df['FemaleTopQuartile']].iloc[:,12:20]\n",
    "print(f\"\\nThere are {test2.shape[0]} companies like that.\")\n",
    "print(f\"That's {round(test2.shape[0]/df.shape[0]*100)}% of all the busineses in the dataset.\")"
   ]
  },
  {
   "cell_type": "markdown",
   "metadata": {},
   "source": [
    "#### In this segment there are:"
   ]
  },
  {
   "cell_type": "code",
   "execution_count": 82,
   "metadata": {},
   "outputs": [
    {
     "name": "stdout",
     "output_type": "stream",
     "text": [
      "\n",
      "34% women and 66% men\n"
     ]
    }
   ],
   "source": [
    "fem = int(test2.iloc[:,[1,3,5,7]].mean().mean().round())\n",
    "m = int(test2.iloc[:,[0,2,4,6]].mean().mean().round())\n",
    "print(f\"\\n{fem}% women and {m}% men\")"
   ]
  },
  {
   "cell_type": "markdown",
   "metadata": {},
   "source": [
    "#### That's how women are distributed amond the salaries quartiles in this segment:"
   ]
  },
  {
   "cell_type": "code",
   "execution_count": 102,
   "metadata": {},
   "outputs": [
    {
     "data": {
      "text/plain": [
       "FemaleLowerQuartile          42.695200\n",
       "FemaleLowerMiddleQuartile    36.203960\n",
       "FemaleUpperMiddleQuartile    31.022198\n",
       "FemaleTopQuartile            25.008623\n",
       "dtype: float64"
      ]
     },
     "execution_count": 102,
     "metadata": {},
     "output_type": "execute_result"
    }
   ],
   "source": [
    "test2.iloc[:,[1,3,5,7]].mean()"
   ]
  },
  {
   "cell_type": "markdown",
   "metadata": {},
   "source": [
    "#### Here women are overrepresented in the lowest paid and underrepresented in the top paid quartile by"
   ]
  },
  {
   "cell_type": "code",
   "execution_count": 204,
   "metadata": {},
   "outputs": [
    {
     "name": "stdout",
     "output_type": "stream",
     "text": [
      "23.5 and 26.5 percent accordingly.\n"
     ]
    }
   ],
   "source": [
    "print(f\"{round((42-34)/0.34,1)} and {round((34-25)/0.34,1)} percent accordingly.\")"
   ]
  },
  {
   "cell_type": "markdown",
   "metadata": {},
   "source": [
    "Much worse actually :(\n"
   ]
  },
  {
   "cell_type": "markdown",
   "metadata": {},
   "source": [
    "### Below I want to check if there is a correlation between sizes of the companies and the pay gap"
   ]
  },
  {
   "cell_type": "code",
   "execution_count": 170,
   "metadata": {},
   "outputs": [],
   "source": [
    "sizeToPres = df.FemaleTopQuartile.groupby(df.EmployerSize).mean()"
   ]
  },
  {
   "cell_type": "code",
   "execution_count": 225,
   "metadata": {},
   "outputs": [],
   "source": [
    "sizeToPres.index = ['Less than 250', '250 to 499', '500 to 999', '1000 to 4999', '5000 to 19,999', '20,000 or more', 'Not Provided']"
   ]
  },
  {
   "cell_type": "code",
   "execution_count": 228,
   "metadata": {},
   "outputs": [
    {
     "data": {
      "text/plain": [
       "<BarContainer object of 7 artists>"
      ]
     },
     "execution_count": 228,
     "metadata": {},
     "output_type": "execute_result"
    },
    {
     "data": {
      "image/png": "[encoded data removed]",
      "text/plain": [
       "<Figure size 864x504 with 1 Axes>"
      ]
     },
     "metadata": {
      "needs_background": "light"
     },
     "output_type": "display_data"
    }
   ],
   "source": [
    "fig = plt.figure(figsize=(12,7), dpi = 72)\n",
    "ax = fig.add_subplot()\n",
    "ax.bar(sizeToPres.index, sizeToPres)"
   ]
  },
  {
   "cell_type": "markdown",
   "metadata": {},
   "source": [
    "we can see that every next company size cathegory 2 or 5 times larger than previous, there is slight increase trend in disparity between <strong>250 to 499</strong> and <strong>5000to 19000</strong>  but <strong>less than 250</strong> and <strong>20000 and more</strong> break that parrern. It seems the size of the company is not a decisive factor. Only 215 companies did not provide their size."
   ]
  },
  {
   "cell_type": "code",
   "execution_count": 240,
   "metadata": {},
   "outputs": [
    {
     "data": {
      "text/plain": [
       "215"
      ]
     },
     "execution_count": 240,
     "metadata": {},
     "output_type": "execute_result"
    }
   ],
   "source": [
    "df.EmployerSize[df.EmployerSize=='Not Provided'].size"
   ]
  },
  {
   "cell_type": "code",
   "execution_count": 248,
   "metadata": {},
   "outputs": [],
   "source": [
    "over_f = quartiles_whole_female[quartiles_whole_female.mean(axis=1)<=quartiles_whole_female.FemaleTopQuartile].shape[0]\n",
    "over_m = quartiles_whole_male[quartiles_whole_male.mean(axis=1)<=quartiles_whole_male.MaleTopQuartile].shape[0]"
   ]
  },
  {
   "cell_type": "markdown",
   "metadata": {},
   "source": [
    "Some companies do have women overrepresented in the highest paid quartile,"
   ]
  },
  {
   "cell_type": "code",
   "execution_count": 255,
   "metadata": {},
   "outputs": [
    {
     "name": "stdout",
     "output_type": "stream",
     "text": [
      "their number is 1869, thats 17.81% of all the companies.\n"
     ]
    }
   ],
   "source": [
    "print(f\"their number is {over_f}, thats {round((over_f/df.shape[0])*100,2)}% of all the companies.\")"
   ]
  },
  {
   "cell_type": "code",
   "execution_count": 256,
   "metadata": {},
   "outputs": [
    {
     "name": "stdout",
     "output_type": "stream",
     "text": [
      "Same number for men is 8472, thats 80.75% of all the companies.\n"
     ]
    }
   ],
   "source": [
    "print(f\"Same number for men is {over_m }, thats {round((over_m/df.shape[0])*100,2)}% of all the companies.\")"
   ]
  },
  {
   "cell_type": "markdown",
   "metadata": {},
   "source": [
    "The dataset does not provide any data to try to establish which factors may have contributed to the disparity in the salaries distribution and why women are so often underpaid compared to men. "
   ]
  }
 ],
 "metadata": {
  "kernelspec": {
   "display_name": "Python 3",
   "language": "python",
   "name": "python3"
  },
  "language_info": {
   "codemirror_mode": {
    "name": "ipython",
    "version": 3
   },
   "file_extension": ".py",
   "mimetype": "text/x-python",
   "name": "python",
   "nbconvert_exporter": "python",
   "pygments_lexer": "ipython3",
   "version": "3.8.2"
  }
 },
 "nbformat": 4,
 "nbformat_minor": 4
}
